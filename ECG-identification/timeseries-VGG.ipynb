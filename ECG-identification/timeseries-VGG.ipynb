{
 "cells": [
  {
   "cell_type": "code",
   "execution_count": null,
   "metadata": {},
   "outputs": [],
   "source": [
    "# CNN WITH 1D DATA"
   ]
  },
  {
   "cell_type": "code",
   "execution_count": null,
   "metadata": {},
   "outputs": [],
   "source": [
    "from __future__ import print_function\n",
    "  \n",
    "from keras.models import Model\n",
    "from keras.utils import np_utils\n",
    "from keras.models import Sequential\n",
    "from keras.layers import Input, Conv2D\n",
    "from keras.layers.core import Flatten, Dense, Dropout,Activation\n",
    "from keras.layers.convolutional import Convolution2D, MaxPooling2D, ZeroPadding2D\n",
    "from keras.optimizers import SGD\n",
    "\n",
    "import cv2\n",
    "import numpy as np\n",
    "import keras \n",
    "from keras.callbacks import ReduceLROnPlateau\n",
    "from pyts.transformation import GASF, GADF, MTF, RecurrencePlots\n",
    "from pyts.visualization import plot_ts,plot_gasf,plot_mtf,plot_recurrence_plots\n",
    "\n",
    "import matplotlib.pyplot as plt\n",
    "%matplotlib inline\n",
    "from keras import backend as K\n",
    "K.set_image_dim_ordering('th')\n",
    "\n",
    "np.random.seed(813306)"
   ]
  },
  {
   "cell_type": "code",
   "execution_count": null,
   "metadata": {},
   "outputs": [],
   "source": [
    "def VGG_16_new(weights_path=None):\n",
    "    inputs = Input(shape=(3,224, 224))\n",
    "    conv1 = Conv2D(64, (3, 3), activation='relu', name='conv1_1', padding='same', trainable = False)(inputs)\n",
    "    conv1 = Conv2D(64, (3, 3), activation='relu', name='conv1_2', padding='same', trainable = False)(conv1)\n",
    "    pool1 = MaxPooling2D((2,2), strides=(2,2))(conv1)\n",
    "\n",
    "    conv2 = Conv2D(128, (3, 3), activation='relu', name='conv2_1', padding='same', trainable = False)(pool1)\n",
    "    conv2 = Conv2D(128, (3, 3), activation='relu', name='conv2_2', padding='same', trainable = False)(conv2)\n",
    "    pool2 = MaxPooling2D((2,2), strides=(2,2))(conv2)\n",
    "\n",
    "    conv3 = Conv2D(256, (3, 3), activation='relu', name='conv3_1', padding='same', trainable = False)(pool2)\n",
    "    conv3 = Conv2D(256, (3, 3), activation='relu', name='conv3_2', padding='same', trainable = False)(conv3)\n",
    "    conv3 = Conv2D(256, (3, 3), activation='relu', name='conv3_3', padding='same', trainable = False)(conv3)\n",
    "    pool3 = MaxPooling2D((2,2), strides=(2,2))(conv3)\n",
    "\n",
    "    conv4 = Conv2D(512, (3, 3), activation='relu', name='conv4_1', padding='same', trainable = False)(pool3)\n",
    "    conv4 = Conv2D(512, (3, 3), activation='relu', name='conv4_2', padding='same', trainable = False)(conv4)\n",
    "    conv4 = Conv2D(512, (3, 3), activation='relu', name='conv4_3', padding='same', trainable = False)(conv4)\n",
    "    pool4 = MaxPooling2D((2,2), strides=(2,2))(conv4)\n",
    "\n",
    "    conv5 = Conv2D(512, (3, 3), activation='relu', name='conv5_1', padding='same', trainable = False)(pool4)\n",
    "    conv5 = Conv2D(512, (3, 3), activation='relu', name='conv5_2', padding='same', trainable = False)(conv5)\n",
    "    conv5 = Conv2D(512, (3, 3), activation='relu', name='conv5_3', padding='same', trainable = False)(conv5)\n",
    "    pool5 = MaxPooling2D((2,2), strides=(2,2))(conv4)\n",
    "    \n",
    "    pool5=Flatten()(pool5)\n",
    "    \n",
    "    dense_1 = Dense(4096,name='dense_1',activation='relu')(pool5)\n",
    "    d1 = Dropout(0.5)(dense_1)\n",
    "\n",
    "    dense_2 = Dense(4096,name='dense_2',activation='relu')(d1)\n",
    "    d2 = Dropout(0.5)(dense_2)\n",
    "\n",
    "    dense_3 = Dense(1000,name='dense_3')(d2)\n",
    "    prediction = Activation(\"softmax\",name=\"softmax\")(dense_3)\n",
    "\n",
    "    model = Model(input=inputs, output=prediction)\n",
    "    \n",
    "    model.load_weights(weights_path, by_name=True)\n",
    "    \n",
    "    return model\n",
    "\n",
    " "
   ]
  },
  {
   "cell_type": "code",
   "execution_count": 3,
   "metadata": {},
   "outputs": [],
   "source": [
    "def pop_layer(model):\n",
    "    if not model.outputs:\n",
    "        raise Exception('Sequential model cannot be popped: model is empty.')\n",
    "\n",
    "    model.layers.pop()\n",
    "    if not model.layers:\n",
    "        model.outputs = []\n",
    "        model.inbound_nodes = []\n",
    "        model.outbound_nodes = []\n",
    "    else:\n",
    "        model.layers[-1].outbound_nodes = []\n",
    "        model.outputs = [model.layers[-1].output]\n",
    "    model.built = False"
   ]
  },
  {
   "cell_type": "code",
   "execution_count": 10,
   "metadata": {},
   "outputs": [],
   "source": [
    "def rebuildModel():\n",
    "\n",
    "    model = VGG_16_new(\"D:\\\\dataset\\\\vgg16_weights.h5\")\n",
    "    # Test pretrained model\n",
    "\n",
    "    #two optimizers for choice\n",
    "    adam = keras.optimizers.Adam()\n",
    "    sgd = SGD(lr=0.01, decay=1e-6, momentum=0.9, nesterov=True)\n",
    "\n",
    "\n",
    "    model.compile(optimizer=adam, loss='categorical_crossentropy')\n",
    "\n",
    "    #Change the model.\n",
    "    pop_layer(model)\n",
    "    pop_layer(model)\n",
    "\n",
    "    pop_layer(model)\n",
    "    pop_layer(model)\n",
    "\n",
    "    pop_layer(model)\n",
    "    pop_layer(model)\n",
    "\n",
    "    dense_1 = Dense(128,name='dense_1',activation='relu')(model.layers[-1].output)\n",
    "    d1 = Dropout(0.5)(dense_1)\n",
    "\n",
    "    dense_2 = Dense(128,name='dense_2',activation='relu')(d1)\n",
    "    d2 = Dropout(0.5)(dense_2)\n",
    "\n",
    "\n",
    "    dense_3 = Dense(2,name='dense_3')(d1)\n",
    "    prediction = Activation(\"softmax\",name=\"softmax\")(dense_3)\n",
    "\n",
    "    model1 = Model(input=model.layers[0].input, output=prediction)\n",
    "\n",
    "\n",
    "    model1.compile(optimizer=adam, loss='categorical_crossentropy', metrics = ['accuracy'])\n",
    "    \n",
    "    return model1\n",
    "\n"
   ]
  },
  {
   "cell_type": "code",
   "execution_count": 11,
   "metadata": {},
   "outputs": [
    {
     "data": {
      "image/png": "[encoded data removed]",
      "text/plain": [
       "<matplotlib.figure.Figure at 0x24e78a59438>"
      ]
     },
     "metadata": {},
     "output_type": "display_data"
    },
    {
     "name": "stdout",
     "output_type": "stream",
     "text": [
      "(100, 96) (100,) (100, 96) (100,)\n"
     ]
    }
   ],
   "source": [
    "def readucr(filename):\n",
    "    data = np.loadtxt(filename, delimiter = ',')\n",
    "    #print(data[0:100])\n",
    "    Y = data[:,0]\n",
    "    X = data[:,1:]\n",
    "    #print(X[0:100])\n",
    "    return X, Y\n",
    "   \n",
    "\n",
    "def loaddataset(fname = 'ECG200'):\n",
    "    root=\"D:\\\\dataset\\\\\"\n",
    "    x_train, y_train = readucr(root+fname+'\\\\'+fname+'_TRAIN.txt')\n",
    "    x_test, y_test = readucr(root+fname+'\\\\'+fname+'_TEST.txt')\n",
    "    return x_train,y_train,x_test,y_test\n",
    "\n",
    "\n",
    "#test\n",
    "x_train,y_train,x_test,y_test=loaddataset()\n",
    "plot_ts(x_train[0])\n",
    "print(x_train.shape,y_train.shape,x_test.shape,y_test.shape )"
   ]
  },
  {
   "cell_type": "markdown",
   "metadata": {},
   "source": [
    "# Training"
   ]
  },
  {
   "cell_type": "code",
   "execution_count": 12,
   "metadata": {},
   "outputs": [],
   "source": [
    "def whiteNoiseAugmentation(x,y, power=1):\n",
    "    \n",
    "    mu, sigma = 0, 0.1 \n",
    "    \n",
    "    for i in range(0,power):\n",
    "        noise = np.random.normal(mu, sigma, [x.shape[0],x.shape[1]]) \n",
    "        x1=x+noise\n",
    "        x=np.concatenate((x, x1), axis=0)\n",
    "        y=np.concatenate((y, y), axis=0)\n",
    "\n",
    "        print(x.shape, y.shape)\n",
    "    return x,y"
   ]
  },
  {
   "cell_type": "code",
   "execution_count": 13,
   "metadata": {},
   "outputs": [],
   "source": [
    "def to_rgb5(im):\n",
    "    im.resize((im.shape[0], im.shape[1], 1))\n",
    "    return np.repeat(im.astype(np.float32), 3, 2)"
   ]
  },
  {
   "cell_type": "code",
   "execution_count": 14,
   "metadata": {},
   "outputs": [],
   "source": [
    "def trainProc(fname = 'ECG200', method='gaf', argPow=2, epoch=50):\n",
    "    \n",
    "    x_train,y_train,x_test,y_test=loaddataset(fname)\n",
    "    print(x_train.shape)\n",
    "    print(x_test.shape)\n",
    "\n",
    "    #x_train,y_train=whiteNoiseAugmentation(x_train,y_train,argPow)\n",
    "\n",
    "    if(method=='gaf'):\n",
    "        gasf=GASF(image_size=x_train.shape[1]//2, overlapping=False, scale='-1')\n",
    "        x_tr=gasf.transform(x_train)\n",
    "        x_te=gasf.transform(x_test)\n",
    "        print(\"apply gaf\")\n",
    "    elif(method=='mtf'):\n",
    "        mtf=MTF(image_size=x_train.shape[1], n_bins=4, quantiles='empirical', overlapping=False)\n",
    "        x_tr=mtf.transform(x_train)\n",
    "        x_te=mtf.transform(x_test)\n",
    "        print(\"apply mtf\")\n",
    "    else:\n",
    "        rp=RecurrencePlots(dimension=3,epsilon='percentage_points',percentage=10)\n",
    "        x_tr=rp.transform(x_train)\n",
    "        x_te=rp.transform(x_test)\n",
    "        print(\"apply rp\")\n",
    "\n",
    "\n",
    "    x_train=[]\n",
    "    for img in x_tr:\n",
    "        color_img = to_rgb5(img)\n",
    "        im = cv2.resize(color_img, (224, 224)).astype(np.float32)\n",
    "        x_train.append(im)\n",
    "\n",
    "    x_train=np.array(x_train)\n",
    "    x_train=x_train.reshape(x_train.shape[0],x_train.shape[3],x_train.shape[1],x_train.shape[2])\n",
    "    print(x_train.shape)\n",
    "\n",
    "    x_test=[]\n",
    "    for img in x_te:\n",
    "        color_img = to_rgb5(img)\n",
    "        im = cv2.resize(color_img, (224, 224)).astype(np.float32)\n",
    "        x_test.append(im)\n",
    "\n",
    "    x_test=np.array(x_test)\n",
    "    x_test=x_test.reshape(x_test.shape[0],x_test.shape[3],x_test.shape[1],x_test.shape[2])\n",
    "    print(x_test.shape)\n",
    "    \n",
    "    #normalization\n",
    "    nb_classes = len(np.unique(y_test))\n",
    "    print(\"class-num:\",nb_classes)\n",
    "\n",
    "    batch_size = min(int(x_train.shape[0]/10), 16)\n",
    "\n",
    "    y_train = (y_train - y_train.min())/(y_train.max()-y_train.min())*(nb_classes-1)\n",
    "    y_test = (y_test - y_test.min())/(y_test.max()-y_test.min())*(nb_classes-1)\n",
    "\n",
    "\n",
    "    Y_train = np_utils.to_categorical(y_train, nb_classes)\n",
    "    Y_test = np_utils.to_categorical(y_test, nb_classes)\n",
    "\n",
    "    x_train_mean = x_train.mean()\n",
    "    x_train_std = x_train.std()\n",
    "    x_train = (x_train - x_train_mean)/(x_train_std)\n",
    "    x_test = (x_test - x_train_mean)/(x_train_std)\n",
    "    \n",
    "    \n",
    "    model=rebuildModel()\n",
    "    \n",
    "    hist = model.fit(x_train, Y_train, batch_size=batch_size, nb_epoch=epoch,\n",
    "              verbose=2, validation_data=(x_test, Y_test))\n",
    "    \n",
    "    plt.plot(hist.history['acc'])\n",
    "    plt.plot(hist.history['val_acc'])\n",
    "    plt.title('model accuracy')\n",
    "    plt.ylabel('accuracy')\n",
    "    plt.xlabel('epoch')\n",
    "    plt.legend(['train', 'test'], loc='upper left')\n",
    "    plt.show()\n",
    "    # summarize history for loss\n",
    "    plt.plot(hist.history['loss'])\n",
    "    plt.plot(hist.history['val_loss'])\n",
    "    plt.title('model loss')\n",
    "    plt.ylabel('loss')\n",
    "    plt.xlabel('epoch')\n",
    "    plt.legend(['train', 'test'], loc='upper left')\n",
    "    plt.show()\n",
    "    \n",
    "    \n",
    "    return hist\n",
    "    \n"
   ]
  },
  {
   "cell_type": "code",
   "execution_count": 15,
   "metadata": {},
   "outputs": [
    {
     "name": "stdout",
     "output_type": "stream",
     "text": [
      "(100, 96)\n",
      "(100, 96)\n",
      "apply gaf\n",
      "(100, 3, 224, 224)\n",
      "(100, 3, 224, 224)\n",
      "class-num: 2\n"
     ]
    },
    {
     "name": "stderr",
     "output_type": "stream",
     "text": [
      "d:\\Anaconda3\\lib\\site-packages\\ipykernel_launcher.py:38: UserWarning: Update your `Model` call to the Keras 2 API: `Model(inputs=Tensor(\"in..., outputs=Tensor(\"so...)`\n",
      "d:\\Anaconda3\\lib\\site-packages\\ipykernel_launcher.py:33: UserWarning: Update your `Model` call to the Keras 2 API: `Model(inputs=Tensor(\"in..., outputs=Tensor(\"so...)`\n",
      "d:\\Anaconda3\\lib\\site-packages\\ipykernel_launcher.py:68: UserWarning: The `nb_epoch` argument in `fit` has been renamed `epochs`.\n"
     ]
    },
    {
     "name": "stdout",
     "output_type": "stream",
     "text": [
      "Train on 100 samples, validate on 100 samples\n",
      "Epoch 1/100\n"
     ]
    },
    {
     "ename": "ResourceExhaustedError",
     "evalue": "OOM when allocating tensor with shape[100352,4096] and type float on /job:localhost/replica:0/task:0/device:GPU:0 by allocator GPU_0_bfc\n\t [[Node: dense_1_2/kernel/Assign = Assign[T=DT_FLOAT, _class=[\"loc:@dense_1_2/kernel\"], use_locking=true, validate_shape=true, _device=\"/job:localhost/replica:0/task:0/device:GPU:0\"](dense_1_2/kernel, dense_1_2/random_uniform)]]\nHint: If you want to see a list of allocated tensors when OOM happens, add report_tensor_allocations_upon_oom to RunOptions for current allocation info.\n\n\nCaused by op 'dense_1_2/kernel/Assign', defined at:\n  File \"d:\\Anaconda3\\lib\\runpy.py\", line 193, in _run_module_as_main\n    \"__main__\", mod_spec)\n  File \"d:\\Anaconda3\\lib\\runpy.py\", line 85, in _run_code\n    exec(code, run_globals)\n  File \"d:\\Anaconda3\\lib\\site-packages\\ipykernel_launcher.py\", line 16, in <module>\n    app.launch_new_instance()\n  File \"d:\\Anaconda3\\lib\\site-packages\\traitlets\\config\\application.py\", line 658, in launch_instance\n    app.start()\n  File \"d:\\Anaconda3\\lib\\site-packages\\ipykernel\\kernelapp.py\", line 478, in start\n    self.io_loop.start()\n  File \"d:\\Anaconda3\\lib\\site-packages\\zmq\\eventloop\\ioloop.py\", line 177, in start\n    super(ZMQIOLoop, self).start()\n  File \"d:\\Anaconda3\\lib\\site-packages\\tornado\\ioloop.py\", line 888, in start\n    handler_func(fd_obj, events)\n  File \"d:\\Anaconda3\\lib\\site-packages\\tornado\\stack_context.py\", line 277, in null_wrapper\n    return fn(*args, **kwargs)\n  File \"d:\\Anaconda3\\lib\\site-packages\\zmq\\eventloop\\zmqstream.py\", line 440, in _handle_events\n    self._handle_recv()\n  File \"d:\\Anaconda3\\lib\\site-packages\\zmq\\eventloop\\zmqstream.py\", line 472, in _handle_recv\n    self._run_callback(callback, msg)\n  File \"d:\\Anaconda3\\lib\\site-packages\\zmq\\eventloop\\zmqstream.py\", line 414, in _run_callback\n    callback(*args, **kwargs)\n  File \"d:\\Anaconda3\\lib\\site-packages\\tornado\\stack_context.py\", line 277, in null_wrapper\n    return fn(*args, **kwargs)\n  File \"d:\\Anaconda3\\lib\\site-packages\\ipykernel\\kernelbase.py\", line 283, in dispatcher\n    return self.dispatch_shell(stream, msg)\n  File \"d:\\Anaconda3\\lib\\site-packages\\ipykernel\\kernelbase.py\", line 233, in dispatch_shell\n    handler(stream, idents, msg)\n  File \"d:\\Anaconda3\\lib\\site-packages\\ipykernel\\kernelbase.py\", line 399, in execute_request\n    user_expressions, allow_stdin)\n  File \"d:\\Anaconda3\\lib\\site-packages\\ipykernel\\ipkernel.py\", line 208, in do_execute\n    res = shell.run_cell(code, store_history=store_history, silent=silent)\n  File \"d:\\Anaconda3\\lib\\site-packages\\ipykernel\\zmqshell.py\", line 537, in run_cell\n    return super(ZMQInteractiveShell, self).run_cell(*args, **kwargs)\n  File \"d:\\Anaconda3\\lib\\site-packages\\IPython\\core\\interactiveshell.py\", line 2728, in run_cell\n    interactivity=interactivity, compiler=compiler, result=result)\n  File \"d:\\Anaconda3\\lib\\site-packages\\IPython\\core\\interactiveshell.py\", line 2850, in run_ast_nodes\n    if self.run_code(code, result):\n  File \"d:\\Anaconda3\\lib\\site-packages\\IPython\\core\\interactiveshell.py\", line 2910, in run_code\n    exec(code_obj, self.user_global_ns, self.user_ns)\n  File \"<ipython-input-15-72ad133a9035>\", line 1, in <module>\n    hist=trainProc(fname = 'ECG200', method='gaf', argPow=2, epoch=100)\n  File \"<ipython-input-14-39997e061442>\", line 65, in trainProc\n    model=rebuildModel()\n  File \"<ipython-input-10-03c7aff636d7>\", line 3, in rebuildModel\n    model = VGG_16_new(\"D:\\\\dataset\\\\vgg16_weights.h5\")\n  File \"<ipython-input-2-a7ffe79bad75>\", line 28, in VGG_16_new\n    dense_1 = Dense(4096,name='dense_1',activation='relu')(pool5)\n  File \"d:\\Anaconda3\\lib\\site-packages\\keras\\engine\\topology.py\", line 592, in __call__\n    self.build(input_shapes[0])\n  File \"d:\\Anaconda3\\lib\\site-packages\\keras\\layers\\core.py\", line 842, in build\n    constraint=self.kernel_constraint)\n  File \"d:\\Anaconda3\\lib\\site-packages\\keras\\legacy\\interfaces.py\", line 91, in wrapper\n    return func(*args, **kwargs)\n  File \"d:\\Anaconda3\\lib\\site-packages\\keras\\engine\\topology.py\", line 416, in add_weight\n    constraint=constraint)\n  File \"d:\\Anaconda3\\lib\\site-packages\\keras\\backend\\tensorflow_backend.py\", line 395, in variable\n    v = tf.Variable(value, dtype=tf.as_dtype(dtype), name=name)\n  File \"d:\\Anaconda3\\lib\\site-packages\\tensorflow\\python\\ops\\variables.py\", line 235, in __init__\n    constraint=constraint)\n  File \"d:\\Anaconda3\\lib\\site-packages\\tensorflow\\python\\ops\\variables.py\", line 381, in _init_from_args\n    validate_shape=validate_shape).op\n  File \"d:\\Anaconda3\\lib\\site-packages\\tensorflow\\python\\ops\\state_ops.py\", line 281, in assign\n    validate_shape=validate_shape)\n  File \"d:\\Anaconda3\\lib\\site-packages\\tensorflow\\python\\ops\\gen_state_ops.py\", line 64, in assign\n    use_locking=use_locking, name=name)\n  File \"d:\\Anaconda3\\lib\\site-packages\\tensorflow\\python\\framework\\op_def_library.py\", line 787, in _apply_op_helper\n    op_def=op_def)\n  File \"d:\\Anaconda3\\lib\\site-packages\\tensorflow\\python\\framework\\ops.py\", line 3290, in create_op\n    op_def=op_def)\n  File \"d:\\Anaconda3\\lib\\site-packages\\tensorflow\\python\\framework\\ops.py\", line 1654, in __init__\n    self._traceback = self._graph._extract_stack()  # pylint: disable=protected-access\n\nResourceExhaustedError (see above for traceback): OOM when allocating tensor with shape[100352,4096] and type float on /job:localhost/replica:0/task:0/device:GPU:0 by allocator GPU_0_bfc\n\t [[Node: dense_1_2/kernel/Assign = Assign[T=DT_FLOAT, _class=[\"loc:@dense_1_2/kernel\"], use_locking=true, validate_shape=true, _device=\"/job:localhost/replica:0/task:0/device:GPU:0\"](dense_1_2/kernel, dense_1_2/random_uniform)]]\nHint: If you want to see a list of allocated tensors when OOM happens, add report_tensor_allocations_upon_oom to RunOptions for current allocation info.\n\n",
     "traceback": [
      "\u001b[1;31m---------------------------------------------------------------------------\u001b[0m",
      "\u001b[1;31mResourceExhaustedError\u001b[0m                    Traceback (most recent call last)",
      "\u001b[1;32md:\\Anaconda3\\lib\\site-packages\\tensorflow\\python\\client\\session.py\u001b[0m in \u001b[0;36m_do_call\u001b[1;34m(self, fn, *args)\u001b[0m\n\u001b[0;32m   1326\u001b[0m     \u001b[1;32mtry\u001b[0m\u001b[1;33m:\u001b[0m\u001b[1;33m\u001b[0m\u001b[0m\n\u001b[1;32m-> 1327\u001b[1;33m       \u001b[1;32mreturn\u001b[0m \u001b[0mfn\u001b[0m\u001b[1;33m(\u001b[0m\u001b[1;33m*\u001b[0m\u001b[0margs\u001b[0m\u001b[1;33m)\u001b[0m\u001b[1;33m\u001b[0m\u001b[0m\n\u001b[0m\u001b[0;32m   1328\u001b[0m     \u001b[1;32mexcept\u001b[0m \u001b[0merrors\u001b[0m\u001b[1;33m.\u001b[0m\u001b[0mOpError\u001b[0m \u001b[1;32mas\u001b[0m \u001b[0me\u001b[0m\u001b[1;33m:\u001b[0m\u001b[1;33m\u001b[0m\u001b[0m\n",
      "\u001b[1;32md:\\Anaconda3\\lib\\site-packages\\tensorflow\\python\\client\\session.py\u001b[0m in \u001b[0;36m_run_fn\u001b[1;34m(feed_dict, fetch_list, target_list, options, run_metadata)\u001b[0m\n\u001b[0;32m   1311\u001b[0m       return self._call_tf_sessionrun(\n\u001b[1;32m-> 1312\u001b[1;33m           options, feed_dict, fetch_list, target_list, run_metadata)\n\u001b[0m\u001b[0;32m   1313\u001b[0m \u001b[1;33m\u001b[0m\u001b[0m\n",
      "\u001b[1;32md:\\Anaconda3\\lib\\site-packages\\tensorflow\\python\\client\\session.py\u001b[0m in \u001b[0;36m_call_tf_sessionrun\u001b[1;34m(self, options, feed_dict, fetch_list, target_list, run_metadata)\u001b[0m\n\u001b[0;32m   1419\u001b[0m             \u001b[0mself\u001b[0m\u001b[1;33m.\u001b[0m\u001b[0m_session\u001b[0m\u001b[1;33m,\u001b[0m \u001b[0moptions\u001b[0m\u001b[1;33m,\u001b[0m \u001b[0mfeed_dict\u001b[0m\u001b[1;33m,\u001b[0m \u001b[0mfetch_list\u001b[0m\u001b[1;33m,\u001b[0m \u001b[0mtarget_list\u001b[0m\u001b[1;33m,\u001b[0m\u001b[1;33m\u001b[0m\u001b[0m\n\u001b[1;32m-> 1420\u001b[1;33m             status, run_metadata)\n\u001b[0m\u001b[0;32m   1421\u001b[0m \u001b[1;33m\u001b[0m\u001b[0m\n",
      "\u001b[1;32md:\\Anaconda3\\lib\\site-packages\\tensorflow\\python\\framework\\errors_impl.py\u001b[0m in \u001b[0;36m__exit__\u001b[1;34m(self, type_arg, value_arg, traceback_arg)\u001b[0m\n\u001b[0;32m    515\u001b[0m             \u001b[0mcompat\u001b[0m\u001b[1;33m.\u001b[0m\u001b[0mas_text\u001b[0m\u001b[1;33m(\u001b[0m\u001b[0mc_api\u001b[0m\u001b[1;33m.\u001b[0m\u001b[0mTF_Message\u001b[0m\u001b[1;33m(\u001b[0m\u001b[0mself\u001b[0m\u001b[1;33m.\u001b[0m\u001b[0mstatus\u001b[0m\u001b[1;33m.\u001b[0m\u001b[0mstatus\u001b[0m\u001b[1;33m)\u001b[0m\u001b[1;33m)\u001b[0m\u001b[1;33m,\u001b[0m\u001b[1;33m\u001b[0m\u001b[0m\n\u001b[1;32m--> 516\u001b[1;33m             c_api.TF_GetCode(self.status.status))\n\u001b[0m\u001b[0;32m    517\u001b[0m     \u001b[1;31m# Delete the underlying status object from memory otherwise it stays alive\u001b[0m\u001b[1;33m\u001b[0m\u001b[1;33m\u001b[0m\u001b[0m\n",
      "\u001b[1;31mResourceExhaustedError\u001b[0m: OOM when allocating tensor with shape[100352,4096] and type float on /job:localhost/replica:0/task:0/device:GPU:0 by allocator GPU_0_bfc\n\t [[Node: dense_1_2/kernel/Assign = Assign[T=DT_FLOAT, _class=[\"loc:@dense_1_2/kernel\"], use_locking=true, validate_shape=true, _device=\"/job:localhost/replica:0/task:0/device:GPU:0\"](dense_1_2/kernel, dense_1_2/random_uniform)]]\nHint: If you want to see a list of allocated tensors when OOM happens, add report_tensor_allocations_upon_oom to RunOptions for current allocation info.\n",
      "\nDuring handling of the above exception, another exception occurred:\n",
      "\u001b[1;31mResourceExhaustedError\u001b[0m                    Traceback (most recent call last)",
      "\u001b[1;32m<ipython-input-15-72ad133a9035>\u001b[0m in \u001b[0;36m<module>\u001b[1;34m()\u001b[0m\n\u001b[1;32m----> 1\u001b[1;33m \u001b[0mhist\u001b[0m\u001b[1;33m=\u001b[0m\u001b[0mtrainProc\u001b[0m\u001b[1;33m(\u001b[0m\u001b[0mfname\u001b[0m \u001b[1;33m=\u001b[0m \u001b[1;34m'ECG200'\u001b[0m\u001b[1;33m,\u001b[0m \u001b[0mmethod\u001b[0m\u001b[1;33m=\u001b[0m\u001b[1;34m'gaf'\u001b[0m\u001b[1;33m,\u001b[0m \u001b[0margPow\u001b[0m\u001b[1;33m=\u001b[0m\u001b[1;36m2\u001b[0m\u001b[1;33m,\u001b[0m \u001b[0mepoch\u001b[0m\u001b[1;33m=\u001b[0m\u001b[1;36m100\u001b[0m\u001b[1;33m)\u001b[0m\u001b[1;33m\u001b[0m\u001b[0m\n\u001b[0m",
      "\u001b[1;32m<ipython-input-14-39997e061442>\u001b[0m in \u001b[0;36mtrainProc\u001b[1;34m(fname, method, argPow, epoch)\u001b[0m\n\u001b[0;32m     66\u001b[0m \u001b[1;33m\u001b[0m\u001b[0m\n\u001b[0;32m     67\u001b[0m     hist = model.fit(x_train, Y_train, batch_size=batch_size, nb_epoch=epoch,\n\u001b[1;32m---> 68\u001b[1;33m               verbose=2, validation_data=(x_test, Y_test))\n\u001b[0m\u001b[0;32m     69\u001b[0m \u001b[1;33m\u001b[0m\u001b[0m\n\u001b[0;32m     70\u001b[0m     \u001b[0mplt\u001b[0m\u001b[1;33m.\u001b[0m\u001b[0mplot\u001b[0m\u001b[1;33m(\u001b[0m\u001b[0mhist\u001b[0m\u001b[1;33m.\u001b[0m\u001b[0mhistory\u001b[0m\u001b[1;33m[\u001b[0m\u001b[1;34m'acc'\u001b[0m\u001b[1;33m]\u001b[0m\u001b[1;33m)\u001b[0m\u001b[1;33m\u001b[0m\u001b[0m\n",
      "\u001b[1;32md:\\Anaconda3\\lib\\site-packages\\keras\\engine\\training.py\u001b[0m in \u001b[0;36mfit\u001b[1;34m(self, x, y, batch_size, epochs, verbose, callbacks, validation_split, validation_data, shuffle, class_weight, sample_weight, initial_epoch, steps_per_epoch, validation_steps, **kwargs)\u001b[0m\n\u001b[0;32m   1703\u001b[0m                               \u001b[0minitial_epoch\u001b[0m\u001b[1;33m=\u001b[0m\u001b[0minitial_epoch\u001b[0m\u001b[1;33m,\u001b[0m\u001b[1;33m\u001b[0m\u001b[0m\n\u001b[0;32m   1704\u001b[0m                               \u001b[0msteps_per_epoch\u001b[0m\u001b[1;33m=\u001b[0m\u001b[0msteps_per_epoch\u001b[0m\u001b[1;33m,\u001b[0m\u001b[1;33m\u001b[0m\u001b[0m\n\u001b[1;32m-> 1705\u001b[1;33m                               validation_steps=validation_steps)\n\u001b[0m\u001b[0;32m   1706\u001b[0m \u001b[1;33m\u001b[0m\u001b[0m\n\u001b[0;32m   1707\u001b[0m     def evaluate(self, x=None, y=None,\n",
      "\u001b[1;32md:\\Anaconda3\\lib\\site-packages\\keras\\engine\\training.py\u001b[0m in \u001b[0;36m_fit_loop\u001b[1;34m(self, f, ins, out_labels, batch_size, epochs, verbose, callbacks, val_f, val_ins, shuffle, callback_metrics, initial_epoch, steps_per_epoch, validation_steps)\u001b[0m\n\u001b[0;32m   1233\u001b[0m                         \u001b[0mins_batch\u001b[0m\u001b[1;33m[\u001b[0m\u001b[0mi\u001b[0m\u001b[1;33m]\u001b[0m \u001b[1;33m=\u001b[0m \u001b[0mins_batch\u001b[0m\u001b[1;33m[\u001b[0m\u001b[0mi\u001b[0m\u001b[1;33m]\u001b[0m\u001b[1;33m.\u001b[0m\u001b[0mtoarray\u001b[0m\u001b[1;33m(\u001b[0m\u001b[1;33m)\u001b[0m\u001b[1;33m\u001b[0m\u001b[0m\n\u001b[0;32m   1234\u001b[0m \u001b[1;33m\u001b[0m\u001b[0m\n\u001b[1;32m-> 1235\u001b[1;33m                     \u001b[0mouts\u001b[0m \u001b[1;33m=\u001b[0m \u001b[0mf\u001b[0m\u001b[1;33m(\u001b[0m\u001b[0mins_batch\u001b[0m\u001b[1;33m)\u001b[0m\u001b[1;33m\u001b[0m\u001b[0m\n\u001b[0m\u001b[0;32m   1236\u001b[0m                     \u001b[1;32mif\u001b[0m \u001b[1;32mnot\u001b[0m \u001b[0misinstance\u001b[0m\u001b[1;33m(\u001b[0m\u001b[0mouts\u001b[0m\u001b[1;33m,\u001b[0m \u001b[0mlist\u001b[0m\u001b[1;33m)\u001b[0m\u001b[1;33m:\u001b[0m\u001b[1;33m\u001b[0m\u001b[0m\n\u001b[0;32m   1237\u001b[0m                         \u001b[0mouts\u001b[0m \u001b[1;33m=\u001b[0m \u001b[1;33m[\u001b[0m\u001b[0mouts\u001b[0m\u001b[1;33m]\u001b[0m\u001b[1;33m\u001b[0m\u001b[0m\n",
      "\u001b[1;32md:\\Anaconda3\\lib\\site-packages\\keras\\backend\\tensorflow_backend.py\u001b[0m in \u001b[0;36m__call__\u001b[1;34m(self, inputs)\u001b[0m\n\u001b[0;32m   2474\u001b[0m             \u001b[0mfeed_dict\u001b[0m\u001b[1;33m[\u001b[0m\u001b[0mtensor\u001b[0m\u001b[1;33m]\u001b[0m \u001b[1;33m=\u001b[0m \u001b[0mvalue\u001b[0m\u001b[1;33m\u001b[0m\u001b[0m\n\u001b[0;32m   2475\u001b[0m         \u001b[0mfetches\u001b[0m \u001b[1;33m=\u001b[0m \u001b[0mself\u001b[0m\u001b[1;33m.\u001b[0m\u001b[0moutputs\u001b[0m \u001b[1;33m+\u001b[0m \u001b[1;33m[\u001b[0m\u001b[0mself\u001b[0m\u001b[1;33m.\u001b[0m\u001b[0mupdates_op\u001b[0m\u001b[1;33m]\u001b[0m \u001b[1;33m+\u001b[0m \u001b[0mself\u001b[0m\u001b[1;33m.\u001b[0m\u001b[0mfetches\u001b[0m\u001b[1;33m\u001b[0m\u001b[0m\n\u001b[1;32m-> 2476\u001b[1;33m         \u001b[0msession\u001b[0m \u001b[1;33m=\u001b[0m \u001b[0mget_session\u001b[0m\u001b[1;33m(\u001b[0m\u001b[1;33m)\u001b[0m\u001b[1;33m\u001b[0m\u001b[0m\n\u001b[0m\u001b[0;32m   2477\u001b[0m         updated = session.run(fetches=fetches, feed_dict=feed_dict,\n\u001b[0;32m   2478\u001b[0m                               **self.session_kwargs)\n",
      "\u001b[1;32md:\\Anaconda3\\lib\\site-packages\\keras\\backend\\tensorflow_backend.py\u001b[0m in \u001b[0;36mget_session\u001b[1;34m()\u001b[0m\n\u001b[0;32m    197\u001b[0m                     \u001b[0mv\u001b[0m\u001b[1;33m.\u001b[0m\u001b[0m_keras_initialized\u001b[0m \u001b[1;33m=\u001b[0m \u001b[1;32mTrue\u001b[0m\u001b[1;33m\u001b[0m\u001b[0m\n\u001b[0;32m    198\u001b[0m                 \u001b[1;32mif\u001b[0m \u001b[0muninitialized_vars\u001b[0m\u001b[1;33m:\u001b[0m\u001b[1;33m\u001b[0m\u001b[0m\n\u001b[1;32m--> 199\u001b[1;33m                     \u001b[0msession\u001b[0m\u001b[1;33m.\u001b[0m\u001b[0mrun\u001b[0m\u001b[1;33m(\u001b[0m\u001b[0mtf\u001b[0m\u001b[1;33m.\u001b[0m\u001b[0mvariables_initializer\u001b[0m\u001b[1;33m(\u001b[0m\u001b[0muninitialized_vars\u001b[0m\u001b[1;33m)\u001b[0m\u001b[1;33m)\u001b[0m\u001b[1;33m\u001b[0m\u001b[0m\n\u001b[0m\u001b[0;32m    200\u001b[0m     \u001b[1;31m# hack for list_devices() function.\u001b[0m\u001b[1;33m\u001b[0m\u001b[1;33m\u001b[0m\u001b[0m\n\u001b[0;32m    201\u001b[0m     \u001b[1;31m# list_devices() function is not available under tensorflow r1.3.\u001b[0m\u001b[1;33m\u001b[0m\u001b[1;33m\u001b[0m\u001b[0m\n",
      "\u001b[1;32md:\\Anaconda3\\lib\\site-packages\\tensorflow\\python\\client\\session.py\u001b[0m in \u001b[0;36mrun\u001b[1;34m(self, fetches, feed_dict, options, run_metadata)\u001b[0m\n\u001b[0;32m    903\u001b[0m     \u001b[1;32mtry\u001b[0m\u001b[1;33m:\u001b[0m\u001b[1;33m\u001b[0m\u001b[0m\n\u001b[0;32m    904\u001b[0m       result = self._run(None, fetches, feed_dict, options_ptr,\n\u001b[1;32m--> 905\u001b[1;33m                          run_metadata_ptr)\n\u001b[0m\u001b[0;32m    906\u001b[0m       \u001b[1;32mif\u001b[0m \u001b[0mrun_metadata\u001b[0m\u001b[1;33m:\u001b[0m\u001b[1;33m\u001b[0m\u001b[0m\n\u001b[0;32m    907\u001b[0m         \u001b[0mproto_data\u001b[0m \u001b[1;33m=\u001b[0m \u001b[0mtf_session\u001b[0m\u001b[1;33m.\u001b[0m\u001b[0mTF_GetBuffer\u001b[0m\u001b[1;33m(\u001b[0m\u001b[0mrun_metadata_ptr\u001b[0m\u001b[1;33m)\u001b[0m\u001b[1;33m\u001b[0m\u001b[0m\n",
      "\u001b[1;32md:\\Anaconda3\\lib\\site-packages\\tensorflow\\python\\client\\session.py\u001b[0m in \u001b[0;36m_run\u001b[1;34m(self, handle, fetches, feed_dict, options, run_metadata)\u001b[0m\n\u001b[0;32m   1138\u001b[0m     \u001b[1;32mif\u001b[0m \u001b[0mfinal_fetches\u001b[0m \u001b[1;32mor\u001b[0m \u001b[0mfinal_targets\u001b[0m \u001b[1;32mor\u001b[0m \u001b[1;33m(\u001b[0m\u001b[0mhandle\u001b[0m \u001b[1;32mand\u001b[0m \u001b[0mfeed_dict_tensor\u001b[0m\u001b[1;33m)\u001b[0m\u001b[1;33m:\u001b[0m\u001b[1;33m\u001b[0m\u001b[0m\n\u001b[0;32m   1139\u001b[0m       results = self._do_run(handle, final_targets, final_fetches,\n\u001b[1;32m-> 1140\u001b[1;33m                              feed_dict_tensor, options, run_metadata)\n\u001b[0m\u001b[0;32m   1141\u001b[0m     \u001b[1;32melse\u001b[0m\u001b[1;33m:\u001b[0m\u001b[1;33m\u001b[0m\u001b[0m\n\u001b[0;32m   1142\u001b[0m       \u001b[0mresults\u001b[0m \u001b[1;33m=\u001b[0m \u001b[1;33m[\u001b[0m\u001b[1;33m]\u001b[0m\u001b[1;33m\u001b[0m\u001b[0m\n",
      "\u001b[1;32md:\\Anaconda3\\lib\\site-packages\\tensorflow\\python\\client\\session.py\u001b[0m in \u001b[0;36m_do_run\u001b[1;34m(self, handle, target_list, fetch_list, feed_dict, options, run_metadata)\u001b[0m\n\u001b[0;32m   1319\u001b[0m     \u001b[1;32mif\u001b[0m \u001b[0mhandle\u001b[0m \u001b[1;32mis\u001b[0m \u001b[1;32mNone\u001b[0m\u001b[1;33m:\u001b[0m\u001b[1;33m\u001b[0m\u001b[0m\n\u001b[0;32m   1320\u001b[0m       return self._do_call(_run_fn, feeds, fetches, targets, options,\n\u001b[1;32m-> 1321\u001b[1;33m                            run_metadata)\n\u001b[0m\u001b[0;32m   1322\u001b[0m     \u001b[1;32melse\u001b[0m\u001b[1;33m:\u001b[0m\u001b[1;33m\u001b[0m\u001b[0m\n\u001b[0;32m   1323\u001b[0m       \u001b[1;32mreturn\u001b[0m \u001b[0mself\u001b[0m\u001b[1;33m.\u001b[0m\u001b[0m_do_call\u001b[0m\u001b[1;33m(\u001b[0m\u001b[0m_prun_fn\u001b[0m\u001b[1;33m,\u001b[0m \u001b[0mhandle\u001b[0m\u001b[1;33m,\u001b[0m \u001b[0mfeeds\u001b[0m\u001b[1;33m,\u001b[0m \u001b[0mfetches\u001b[0m\u001b[1;33m)\u001b[0m\u001b[1;33m\u001b[0m\u001b[0m\n",
      "\u001b[1;32md:\\Anaconda3\\lib\\site-packages\\tensorflow\\python\\client\\session.py\u001b[0m in \u001b[0;36m_do_call\u001b[1;34m(self, fn, *args)\u001b[0m\n\u001b[0;32m   1338\u001b[0m         \u001b[1;32mexcept\u001b[0m \u001b[0mKeyError\u001b[0m\u001b[1;33m:\u001b[0m\u001b[1;33m\u001b[0m\u001b[0m\n\u001b[0;32m   1339\u001b[0m           \u001b[1;32mpass\u001b[0m\u001b[1;33m\u001b[0m\u001b[0m\n\u001b[1;32m-> 1340\u001b[1;33m       \u001b[1;32mraise\u001b[0m \u001b[0mtype\u001b[0m\u001b[1;33m(\u001b[0m\u001b[0me\u001b[0m\u001b[1;33m)\u001b[0m\u001b[1;33m(\u001b[0m\u001b[0mnode_def\u001b[0m\u001b[1;33m,\u001b[0m \u001b[0mop\u001b[0m\u001b[1;33m,\u001b[0m \u001b[0mmessage\u001b[0m\u001b[1;33m)\u001b[0m\u001b[1;33m\u001b[0m\u001b[0m\n\u001b[0m\u001b[0;32m   1341\u001b[0m \u001b[1;33m\u001b[0m\u001b[0m\n\u001b[0;32m   1342\u001b[0m   \u001b[1;32mdef\u001b[0m \u001b[0m_extend_graph\u001b[0m\u001b[1;33m(\u001b[0m\u001b[0mself\u001b[0m\u001b[1;33m)\u001b[0m\u001b[1;33m:\u001b[0m\u001b[1;33m\u001b[0m\u001b[0m\n",
      "\u001b[1;31mResourceExhaustedError\u001b[0m: OOM when allocating tensor with shape[100352,4096] and type float on /job:localhost/replica:0/task:0/device:GPU:0 by allocator GPU_0_bfc\n\t [[Node: dense_1_2/kernel/Assign = Assign[T=DT_FLOAT, _class=[\"loc:@dense_1_2/kernel\"], use_locking=true, validate_shape=true, _device=\"/job:localhost/replica:0/task:0/device:GPU:0\"](dense_1_2/kernel, dense_1_2/random_uniform)]]\nHint: If you want to see a list of allocated tensors when OOM happens, add report_tensor_allocations_upon_oom to RunOptions for current allocation info.\n\n\nCaused by op 'dense_1_2/kernel/Assign', defined at:\n  File \"d:\\Anaconda3\\lib\\runpy.py\", line 193, in _run_module_as_main\n    \"__main__\", mod_spec)\n  File \"d:\\Anaconda3\\lib\\runpy.py\", line 85, in _run_code\n    exec(code, run_globals)\n  File \"d:\\Anaconda3\\lib\\site-packages\\ipykernel_launcher.py\", line 16, in <module>\n    app.launch_new_instance()\n  File \"d:\\Anaconda3\\lib\\site-packages\\traitlets\\config\\application.py\", line 658, in launch_instance\n    app.start()\n  File \"d:\\Anaconda3\\lib\\site-packages\\ipykernel\\kernelapp.py\", line 478, in start\n    self.io_loop.start()\n  File \"d:\\Anaconda3\\lib\\site-packages\\zmq\\eventloop\\ioloop.py\", line 177, in start\n    super(ZMQIOLoop, self).start()\n  File \"d:\\Anaconda3\\lib\\site-packages\\tornado\\ioloop.py\", line 888, in start\n    handler_func(fd_obj, events)\n  File \"d:\\Anaconda3\\lib\\site-packages\\tornado\\stack_context.py\", line 277, in null_wrapper\n    return fn(*args, **kwargs)\n  File \"d:\\Anaconda3\\lib\\site-packages\\zmq\\eventloop\\zmqstream.py\", line 440, in _handle_events\n    self._handle_recv()\n  File \"d:\\Anaconda3\\lib\\site-packages\\zmq\\eventloop\\zmqstream.py\", line 472, in _handle_recv\n    self._run_callback(callback, msg)\n  File \"d:\\Anaconda3\\lib\\site-packages\\zmq\\eventloop\\zmqstream.py\", line 414, in _run_callback\n    callback(*args, **kwargs)\n  File \"d:\\Anaconda3\\lib\\site-packages\\tornado\\stack_context.py\", line 277, in null_wrapper\n    return fn(*args, **kwargs)\n  File \"d:\\Anaconda3\\lib\\site-packages\\ipykernel\\kernelbase.py\", line 283, in dispatcher\n    return self.dispatch_shell(stream, msg)\n  File \"d:\\Anaconda3\\lib\\site-packages\\ipykernel\\kernelbase.py\", line 233, in dispatch_shell\n    handler(stream, idents, msg)\n  File \"d:\\Anaconda3\\lib\\site-packages\\ipykernel\\kernelbase.py\", line 399, in execute_request\n    user_expressions, allow_stdin)\n  File \"d:\\Anaconda3\\lib\\site-packages\\ipykernel\\ipkernel.py\", line 208, in do_execute\n    res = shell.run_cell(code, store_history=store_history, silent=silent)\n  File \"d:\\Anaconda3\\lib\\site-packages\\ipykernel\\zmqshell.py\", line 537, in run_cell\n    return super(ZMQInteractiveShell, self).run_cell(*args, **kwargs)\n  File \"d:\\Anaconda3\\lib\\site-packages\\IPython\\core\\interactiveshell.py\", line 2728, in run_cell\n    interactivity=interactivity, compiler=compiler, result=result)\n  File \"d:\\Anaconda3\\lib\\site-packages\\IPython\\core\\interactiveshell.py\", line 2850, in run_ast_nodes\n    if self.run_code(code, result):\n  File \"d:\\Anaconda3\\lib\\site-packages\\IPython\\core\\interactiveshell.py\", line 2910, in run_code\n    exec(code_obj, self.user_global_ns, self.user_ns)\n  File \"<ipython-input-15-72ad133a9035>\", line 1, in <module>\n    hist=trainProc(fname = 'ECG200', method='gaf', argPow=2, epoch=100)\n  File \"<ipython-input-14-39997e061442>\", line 65, in trainProc\n    model=rebuildModel()\n  File \"<ipython-input-10-03c7aff636d7>\", line 3, in rebuildModel\n    model = VGG_16_new(\"D:\\\\dataset\\\\vgg16_weights.h5\")\n  File \"<ipython-input-2-a7ffe79bad75>\", line 28, in VGG_16_new\n    dense_1 = Dense(4096,name='dense_1',activation='relu')(pool5)\n  File \"d:\\Anaconda3\\lib\\site-packages\\keras\\engine\\topology.py\", line 592, in __call__\n    self.build(input_shapes[0])\n  File \"d:\\Anaconda3\\lib\\site-packages\\keras\\layers\\core.py\", line 842, in build\n    constraint=self.kernel_constraint)\n  File \"d:\\Anaconda3\\lib\\site-packages\\keras\\legacy\\interfaces.py\", line 91, in wrapper\n    return func(*args, **kwargs)\n  File \"d:\\Anaconda3\\lib\\site-packages\\keras\\engine\\topology.py\", line 416, in add_weight\n    constraint=constraint)\n  File \"d:\\Anaconda3\\lib\\site-packages\\keras\\backend\\tensorflow_backend.py\", line 395, in variable\n    v = tf.Variable(value, dtype=tf.as_dtype(dtype), name=name)\n  File \"d:\\Anaconda3\\lib\\site-packages\\tensorflow\\python\\ops\\variables.py\", line 235, in __init__\n    constraint=constraint)\n  File \"d:\\Anaconda3\\lib\\site-packages\\tensorflow\\python\\ops\\variables.py\", line 381, in _init_from_args\n    validate_shape=validate_shape).op\n  File \"d:\\Anaconda3\\lib\\site-packages\\tensorflow\\python\\ops\\state_ops.py\", line 281, in assign\n    validate_shape=validate_shape)\n  File \"d:\\Anaconda3\\lib\\site-packages\\tensorflow\\python\\ops\\gen_state_ops.py\", line 64, in assign\n    use_locking=use_locking, name=name)\n  File \"d:\\Anaconda3\\lib\\site-packages\\tensorflow\\python\\framework\\op_def_library.py\", line 787, in _apply_op_helper\n    op_def=op_def)\n  File \"d:\\Anaconda3\\lib\\site-packages\\tensorflow\\python\\framework\\ops.py\", line 3290, in create_op\n    op_def=op_def)\n  File \"d:\\Anaconda3\\lib\\site-packages\\tensorflow\\python\\framework\\ops.py\", line 1654, in __init__\n    self._traceback = self._graph._extract_stack()  # pylint: disable=protected-access\n\nResourceExhaustedError (see above for traceback): OOM when allocating tensor with shape[100352,4096] and type float on /job:localhost/replica:0/task:0/device:GPU:0 by allocator GPU_0_bfc\n\t [[Node: dense_1_2/kernel/Assign = Assign[T=DT_FLOAT, _class=[\"loc:@dense_1_2/kernel\"], use_locking=true, validate_shape=true, _device=\"/job:localhost/replica:0/task:0/device:GPU:0\"](dense_1_2/kernel, dense_1_2/random_uniform)]]\nHint: If you want to see a list of allocated tensors when OOM happens, add report_tensor_allocations_upon_oom to RunOptions for current allocation info.\n\n"
     ],
     "output_type": "error"
    }
   ],
   "source": [
    "hist=trainProc(fname = 'ECG200', method='gaf', argPow=2, epoch=100)"
   ]
  },
  {
   "cell_type": "code",
   "execution_count": 9,
   "metadata": {},
   "outputs": [
    {
     "name": "stdout",
     "output_type": "stream",
     "text": [
      "(100, 96)\n",
      "(100, 96)\n",
      "(200, 96) (200,)\n",
      "(400, 96) (400,)\n",
      "apply rp\n",
      "(400, 3, 224, 224)\n",
      "(100, 3, 224, 224)\n",
      "class-num: 2\n"
     ]
    },
    {
     "name": "stderr",
     "output_type": "stream",
     "text": [
      "d:\\Anaconda3\\lib\\site-packages\\ipykernel_launcher.py:38: UserWarning: Update your `Model` call to the Keras 2 API: `Model(inputs=Tensor(\"in..., outputs=Tensor(\"so...)`\n",
      "d:\\Anaconda3\\lib\\site-packages\\ipykernel_launcher.py:33: UserWarning: Update your `Model` call to the Keras 2 API: `Model(inputs=Tensor(\"in..., outputs=Tensor(\"so...)`\n",
      "d:\\Anaconda3\\lib\\site-packages\\ipykernel_launcher.py:68: UserWarning: The `nb_epoch` argument in `fit` has been renamed `epochs`.\n"
     ]
    },
    {
     "name": "stdout",
     "output_type": "stream",
     "text": [
      "Train on 400 samples, validate on 100 samples\n",
      "Epoch 1/50\n",
      " - 6s - loss: 0.7679 - acc: 0.5925 - val_loss: 0.6517 - val_acc: 0.6400\n",
      "Epoch 2/50\n",
      " - 4s - loss: 0.6282 - acc: 0.6550 - val_loss: 0.6132 - val_acc: 0.6400\n",
      "Epoch 3/50\n",
      " - 4s - loss: 0.5974 - acc: 0.6975 - val_loss: 0.5906 - val_acc: 0.6400\n",
      "Epoch 4/50\n",
      " - 4s - loss: 0.5616 - acc: 0.6875 - val_loss: 0.5783 - val_acc: 0.6400\n",
      "Epoch 5/50\n",
      " - 4s - loss: 0.5687 - acc: 0.6875 - val_loss: 0.5440 - val_acc: 0.6400\n",
      "Epoch 6/50\n",
      " - 4s - loss: 0.5467 - acc: 0.6900 - val_loss: 0.5688 - val_acc: 0.6400\n",
      "Epoch 7/50\n",
      " - 4s - loss: 0.5256 - acc: 0.6900 - val_loss: 0.5383 - val_acc: 0.6400\n",
      "Epoch 8/50\n",
      " - 4s - loss: 0.5236 - acc: 0.6900 - val_loss: 0.5207 - val_acc: 0.6400\n",
      "Epoch 9/50\n",
      " - 4s - loss: 0.4961 - acc: 0.6900 - val_loss: 0.5315 - val_acc: 0.6400\n",
      "Epoch 10/50\n",
      " - 4s - loss: 0.4995 - acc: 0.6900 - val_loss: 0.5385 - val_acc: 0.6400\n",
      "Epoch 11/50\n",
      " - 4s - loss: 0.4829 - acc: 0.6900 - val_loss: 0.5160 - val_acc: 0.6400\n",
      "Epoch 12/50\n",
      " - 4s - loss: 0.4765 - acc: 0.6900 - val_loss: 0.5446 - val_acc: 0.6400\n",
      "Epoch 13/50\n",
      " - 4s - loss: 0.4817 - acc: 0.6900 - val_loss: 0.4983 - val_acc: 0.6400\n",
      "Epoch 14/50\n",
      " - 4s - loss: 0.4626 - acc: 0.6900 - val_loss: 0.5493 - val_acc: 0.6400\n",
      "Epoch 15/50\n",
      " - 4s - loss: 0.4596 - acc: 0.6900 - val_loss: 0.5530 - val_acc: 0.6400\n",
      "Epoch 16/50\n",
      " - 4s - loss: 0.4406 - acc: 0.6900 - val_loss: 0.5034 - val_acc: 0.6400\n",
      "Epoch 17/50\n",
      " - 4s - loss: 0.4389 - acc: 0.6900 - val_loss: 0.5578 - val_acc: 0.6400\n",
      "Epoch 18/50\n",
      " - 4s - loss: 0.4485 - acc: 0.6900 - val_loss: 0.5469 - val_acc: 0.6400\n",
      "Epoch 19/50\n",
      " - 4s - loss: 0.4439 - acc: 0.6900 - val_loss: 0.5712 - val_acc: 0.6400\n",
      "Epoch 20/50\n",
      " - 4s - loss: 0.4365 - acc: 0.6900 - val_loss: 0.4971 - val_acc: 0.6400\n",
      "Epoch 21/50\n",
      " - 4s - loss: 0.4425 - acc: 0.6900 - val_loss: 0.5557 - val_acc: 0.6400\n",
      "Epoch 22/50\n",
      " - 4s - loss: 0.4348 - acc: 0.7000 - val_loss: 0.6466 - val_acc: 0.6400\n",
      "Epoch 23/50\n",
      " - 4s - loss: 0.4611 - acc: 0.6825 - val_loss: 0.5290 - val_acc: 0.6400\n",
      "Epoch 24/50\n",
      " - 4s - loss: 0.4247 - acc: 0.6825 - val_loss: 0.7829 - val_acc: 0.7200\n",
      "Epoch 25/50\n",
      " - 4s - loss: 0.4640 - acc: 0.6950 - val_loss: 0.6494 - val_acc: 0.6400\n",
      "Epoch 26/50\n",
      " - 4s - loss: 0.4151 - acc: 0.6925 - val_loss: 0.5442 - val_acc: 0.7800\n",
      "Epoch 27/50\n",
      " - 4s - loss: 0.3990 - acc: 0.7450 - val_loss: 0.5874 - val_acc: 0.7900\n",
      "Epoch 28/50\n",
      " - 4s - loss: 0.4008 - acc: 0.7400 - val_loss: 0.6167 - val_acc: 0.7900\n",
      "Epoch 29/50\n",
      " - 4s - loss: 0.3902 - acc: 0.7800 - val_loss: 0.6067 - val_acc: 0.7900\n",
      "Epoch 30/50\n",
      " - 4s - loss: 0.3874 - acc: 0.7700 - val_loss: 0.6437 - val_acc: 0.7700\n",
      "Epoch 31/50\n",
      " - 4s - loss: 0.3853 - acc: 0.7675 - val_loss: 0.5745 - val_acc: 0.7700\n",
      "Epoch 32/50\n",
      " - 4s - loss: 0.3667 - acc: 0.7900 - val_loss: 0.6682 - val_acc: 0.7700\n",
      "Epoch 33/50\n",
      " - 4s - loss: 0.3953 - acc: 0.7525 - val_loss: 0.7441 - val_acc: 0.7400\n",
      "Epoch 34/50\n",
      " - 4s - loss: 0.4004 - acc: 0.7425 - val_loss: 0.5121 - val_acc: 0.7900\n",
      "Epoch 35/50\n",
      " - 4s - loss: 0.4146 - acc: 0.7350 - val_loss: 0.5585 - val_acc: 0.7800\n",
      "Epoch 36/50\n",
      " - 4s - loss: 0.3766 - acc: 0.7825 - val_loss: 0.8182 - val_acc: 0.7600\n",
      "Epoch 37/50\n",
      " - 4s - loss: 0.4030 - acc: 0.7550 - val_loss: 0.5342 - val_acc: 0.7800\n",
      "Epoch 38/50\n",
      " - 4s - loss: 0.4119 - acc: 0.7550 - val_loss: 0.5250 - val_acc: 0.7800\n",
      "Epoch 39/50\n",
      " - 4s - loss: 0.3773 - acc: 0.7675 - val_loss: 0.7079 - val_acc: 0.7700\n",
      "Epoch 40/50\n",
      " - 4s - loss: 0.3445 - acc: 0.8150 - val_loss: 0.7859 - val_acc: 0.7800\n",
      "Epoch 41/50\n",
      " - 4s - loss: 0.3738 - acc: 0.7750 - val_loss: 0.8108 - val_acc: 0.7600\n",
      "Epoch 42/50\n",
      " - 4s - loss: 0.3544 - acc: 0.8000 - val_loss: 0.8013 - val_acc: 0.7500\n",
      "Epoch 43/50\n",
      " - 4s - loss: 0.3496 - acc: 0.8025 - val_loss: 0.8557 - val_acc: 0.7600\n",
      "Epoch 44/50\n",
      " - 4s - loss: 0.3626 - acc: 0.7875 - val_loss: 0.6450 - val_acc: 0.7700\n",
      "Epoch 45/50\n",
      " - 4s - loss: 0.3972 - acc: 0.7550 - val_loss: 0.5389 - val_acc: 0.7800\n",
      "Epoch 46/50\n",
      " - 4s - loss: 0.3475 - acc: 0.8075 - val_loss: 0.5715 - val_acc: 0.7700\n",
      "Epoch 47/50\n",
      " - 4s - loss: 0.3457 - acc: 0.8075 - val_loss: 0.8158 - val_acc: 0.7900\n",
      "Epoch 48/50\n",
      " - 4s - loss: 0.3693 - acc: 0.7725 - val_loss: 0.6700 - val_acc: 0.7900\n",
      "Epoch 49/50\n",
      " - 4s - loss: 0.3793 - acc: 0.7650 - val_loss: 0.8136 - val_acc: 0.7500\n",
      "Epoch 50/50\n",
      " - 4s - loss: 0.3311 - acc: 0.8200 - val_loss: 0.8015 - val_acc: 0.7800\n"
     ]
    },
    {
     "data": {
      "image/png": "[encoded data removed]",
      "text/plain": [
       "<matplotlib.figure.Figure at 0x167b50e4898>"
      ]
     },
     "metadata": {},
     "output_type": "display_data"
    },
    {
     "data": {
      "image/png": "[encoded data removed]",
      "text/plain": [
       "<matplotlib.figure.Figure at 0x167e40a7eb8>"
      ]
     },
     "metadata": {},
     "output_type": "display_data"
    }
   ],
   "source": [
    "hist=trainProc(fname = 'ECG200', method='rp', argPow=2, epoch=50)"
   ]
  },
  {
   "cell_type": "code",
   "execution_count": null,
   "metadata": {},
   "outputs": [],
   "source": []
  }
 ],
 "metadata": {
  "kernelspec": {
   "display_name": "Python 3",
   "language": "python",
   "name": "python3"
  },
  "language_info": {
   "codemirror_mode": {
    "name": "ipython",
    "version": 3
   },
   "file_extension": ".py",
   "mimetype": "text/x-python",
   "name": "python",
   "nbconvert_exporter": "python",
   "pygments_lexer": "ipython3",
   "version": "3.6.4"
  }
 },
 "nbformat": 4,
 "nbformat_minor": 2
}
